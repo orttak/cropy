{
 "cells": [
  {
   "cell_type": "code",
   "execution_count": null,
   "metadata": {},
   "outputs": [],
   "source": [
    "from src import cropy as cpy\n",
    "import json\n",
    "import geopandas as gpd\n",
    "import numpy as np\n",
    "import rioxarray\n",
    "import xarray as xr"
   ]
  },
  {
   "cell_type": "markdown",
   "metadata": {},
   "source": [
    "### Create cloud mask image\n",
    "\n",
    "You can create cloud mask image with using SCL band. <br>\n",
    "scl_list >> default= [3,8,9,10] <br>\n",
    "SCL Bands List:0 - No data\n",
    "> 1 - Saturated / Defective <br>\n",
    ">2 - Dark Area Pixels <br>\n",
    ">3 - Cloud Shadows <br>\n",
    ">4 - Vegetation <br> \n",
    ">5 - Bare Soils <br>\n",
    ">6 - Water <br>\n",
    ">7 - Clouds low probability / Unclassified <br>\n",
    ">8 - Clouds medium probability <br> \n",
    ">9 - Clouds high probability <br>\n",
    ">10 - Cirrus <br>\n",
    ">11 - Snow / Ice <br>\n"
   ]
  },
  {
   "cell_type": "code",
   "execution_count": null,
   "metadata": {},
   "outputs": [],
   "source": [
    "target_aoi={\n",
    "\"type\": \"FeatureCollection\",\n",
    "\"name\": \"Harran_AOI\",\n",
    "\"crs\": { \"type\": \"name\", \"properties\": { \"name\": \"urn:ogc:def:crs:OGC:1.3:CRS84\" } },\n",
    "\"features\": [\n",
    "{ \"type\": \"Feature\", \"properties\": { \"fid\": 1 }, \"geometry\": { \"type\": \"Polygon\", \"coordinates\": [ [ [ 38.680367610550277, 36.71081864055018 ], [ 38.688923838082594, 37.274751818816462 ], [ 39.282414893278698, 37.277085335416182 ], [ 39.29019328194444, 36.690594830019251 ], [ 38.680367610550277, 36.71081864055018 ] ] ] } }\n",
    "]\n",
    "}\n",
    "\n",
    "datajson=json.dumps(target_aoi)\n",
    "area=gpd.read_file(datajson)\n",
    "\n",
    "#cpy.VectorProcessing.show_vector(target_area=area)\n",
    "m,intersec_df=cpy.VectorProcessing.show_intersection(target_area=area,base_vector_path='sentinel_tiles/sentinel_tr_tiles.shp')\n",
    "#m\n",
    "boundry=list(area.geometry.bounds.values[0]) #boundry from your AOI\n",
    "bbox=[boundry[0],boundry[1],boundry[2],boundry[3]] #(min lon, min lat, max lon, max lat)\n",
    "dates = '2018-08-01/2018-12-01'\n",
    "cloud_percentage=30\n",
    "band_list=['B02','B08']"
   ]
  },
  {
   "cell_type": "code",
   "execution_count": null,
   "metadata": {},
   "outputs": [],
   "source": [
    "stac_query=cpy.Stac(target_aoi=bbox,date=dates,max_cloud=cloud_percentage)\n"
   ]
  },
  {
   "cell_type": "code",
   "execution_count": null,
   "metadata": {},
   "outputs": [],
   "source": [
    "t_list=stac_query.create_tiles_list()\n",
    "t_list"
   ]
  },
  {
   "cell_type": "code",
   "execution_count": null,
   "metadata": {},
   "outputs": [],
   "source": [
    "stac_query.tiles_list=['37SDA']\n",
    "stac_query.find_time_series()\n"
   ]
  },
  {
   "cell_type": "code",
   "execution_count": null,
   "metadata": {},
   "outputs": [],
   "source": [
    "%%time\n",
    "dow=cpy.Stac.download_subset_image(item_list=stac_query.stac_items[0:1],\n",
    "                                   aoi=target_aoi,\n",
    "                                   band_list=['B09','B04'],\n",
    "                                   download_status=True,\n",
    "                                   ###### OPEN CLOUD MASKING ################\n",
    "                                   cloud_masking=True,\n",
    "                                   )"
   ]
  },
  {
   "cell_type": "code",
   "execution_count": null,
   "metadata": {},
   "outputs": [],
   "source": [
    "dow[0]['B04']"
   ]
  },
  {
   "cell_type": "markdown",
   "metadata": {},
   "source": [
    "#### FIND BEST IMAGES"
   ]
  },
  {
   "cell_type": "code",
   "execution_count": null,
   "metadata": {},
   "outputs": [],
   "source": [
    "sentinel_items=stac_query.find_sentinel_item()"
   ]
  },
  {
   "cell_type": "code",
   "execution_count": null,
   "metadata": {},
   "outputs": [],
   "source": [
    "%%time\n",
    "dow=cpy.Stac.download_subset_image(item_list=sentinel_items,\n",
    "                                   aoi=target_aoi,\n",
    "                                   band_list=['B09','B04'],\n",
    "                                   #download_status=True,\n",
    "                                   ###### OPEN CLOUD MASKING ################\n",
    "                                   cloud_masking=True,\n",
    "                                   )"
   ]
  },
  {
   "cell_type": "code",
   "execution_count": null,
   "metadata": {},
   "outputs": [],
   "source": []
  }
 ],
 "metadata": {
  "kernelspec": {
   "display_name": "Python 3",
   "language": "python",
   "name": "python3"
  },
  "language_info": {
   "codemirror_mode": {
    "name": "ipython",
    "version": 3
   },
   "file_extension": ".py",
   "mimetype": "text/x-python",
   "name": "python",
   "nbconvert_exporter": "python",
   "pygments_lexer": "ipython3",
   "version": "3.8.6"
  }
 },
 "nbformat": 4,
 "nbformat_minor": 4
}
