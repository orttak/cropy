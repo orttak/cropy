{
 "cells": [
  {
   "cell_type": "code",
   "execution_count": 4,
   "metadata": {},
   "outputs": [],
   "source": [
    "from src import cropy as cpy\n",
    "import json\n",
    "import geopandas as gpd\n",
    "import numpy as np\n",
    "import rioxarray\n",
    "import xarray as xr"
   ]
  },
  {
   "cell_type": "code",
   "execution_count": 5,
   "metadata": {},
   "outputs": [],
   "source": [
    "r18=rioxarray.open_rasterio('sentinel-s2-l2a-cogs/2021-04-13/S2A_36SXF_20210413_0_L2A_B08.tif')\n",
    "r12=rioxarray.open_rasterio('sentinel-s2-l2a-cogs/2021-04-13/S2A_36SXF_20210413_0_L2A_B02.tif')\n",
    "r13=rioxarray.open_rasterio('sentinel-s2-l2a-cogs/2021-04-13/S2A_36SXF_20210413_0_L2A_B03.tif')\n",
    "r14=rioxarray.open_rasterio('sentinel-s2-l2a-cogs/2021-04-13/S2A_36SXF_20210413_0_L2A_B04.tif')"
   ]
  },
  {
   "cell_type": "code",
   "execution_count": 6,
   "metadata": {},
   "outputs": [],
   "source": [
    "r28=rioxarray.open_rasterio('sentinel-s2-l2a-cogs/2021-04-13/S2A_36SYF_20210413_0_L2A_B08.tif')\n",
    "r22=rioxarray.open_rasterio('sentinel-s2-l2a-cogs/2021-04-13/S2A_36SYF_20210413_0_L2A_B02.tif')\n",
    "r23=rioxarray.open_rasterio('sentinel-s2-l2a-cogs/2021-04-13/S2A_36SYF_20210413_0_L2A_B03.tif')\n",
    "r24=rioxarray.open_rasterio('sentinel-s2-l2a-cogs/2021-04-13/S2A_36SYF_20210413_0_L2A_B04.tif')"
   ]
  },
  {
   "cell_type": "code",
   "execution_count": null,
   "metadata": {},
   "outputs": [],
   "source": []
  },
  {
   "cell_type": "markdown",
   "metadata": {},
   "source": [
    "### Create RGB Image"
   ]
  },
  {
   "cell_type": "code",
   "execution_count": 8,
   "metadata": {},
   "outputs": [
    {
     "name": "stdout",
     "output_type": "stream",
     "text": [
      "CPU times: user 3.96 s, sys: 379 ms, total: 4.34 s\n",
      "Wall time: 4.7 s\n"
     ]
    }
   ],
   "source": [
    "%%time\n",
    "stack_rgb=cpy.create_stack(imgs_list=[r14,r13,r12])"
   ]
  },
  {
   "cell_type": "code",
   "execution_count": 12,
   "metadata": {},
   "outputs": [
    {
     "name": "stdout",
     "output_type": "stream",
     "text": [
      "CPU times: user 2.74 s, sys: 335 ms, total: 3.07 s\n",
      "Wall time: 4.17 s\n"
     ]
    }
   ],
   "source": [
    "%%time\n",
    "stack_rgb2=cpy.create_stack(imgs_list=[r24,r23,r22])"
   ]
  },
  {
   "cell_type": "markdown",
   "metadata": {},
   "source": [
    "### Create Mosaic"
   ]
  },
  {
   "cell_type": "code",
   "execution_count": 14,
   "metadata": {},
   "outputs": [
    {
     "name": "stdout",
     "output_type": "stream",
     "text": [
      "CPU times: user 1.19 s, sys: 440 ms, total: 1.63 s\n",
      "Wall time: 1.63 s\n"
     ]
    }
   ],
   "source": [
    "%%time\n",
    "rgb_mosaic=cpy.create_mosaic(imgs_list=[stack_rgb,stack_rgb2])"
   ]
  },
  {
   "cell_type": "code",
   "execution_count": 15,
   "metadata": {},
   "outputs": [
    {
     "name": "stdout",
     "output_type": "stream",
     "text": [
      "CPU times: user 725 ms, sys: 807 ms, total: 1.53 s\n",
      "Wall time: 1.53 s\n"
     ]
    },
    {
     "data": {
      "text/plain": [
       "'S2_rgb_mosaic.tif'"
      ]
     },
     "execution_count": 15,
     "metadata": {},
     "output_type": "execute_result"
    }
   ],
   "source": [
    "%%time\n",
    "#save mosaic\n",
    "cpy.save_image(rgb_mosaic,target_path='S2_rgb_mosaic.tif')"
   ]
  },
  {
   "cell_type": "code",
   "execution_count": null,
   "metadata": {},
   "outputs": [],
   "source": []
  }
 ],
 "metadata": {
  "kernelspec": {
   "display_name": "Python 3 (ipykernel)",
   "language": "python",
   "name": "python3"
  },
  "language_info": {
   "codemirror_mode": {
    "name": "ipython",
    "version": 3
   },
   "file_extension": ".py",
   "mimetype": "text/x-python",
   "name": "python",
   "nbconvert_exporter": "python",
   "pygments_lexer": "ipython3",
   "version": "3.9.7"
  }
 },
 "nbformat": 4,
 "nbformat_minor": 4
}
