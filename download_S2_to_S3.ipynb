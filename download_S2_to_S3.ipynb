{
 "cells": [
  {
   "cell_type": "code",
   "execution_count": 1,
   "id": "05db1db8-10f6-4f09-b4ca-f1d78d766ca3",
   "metadata": {},
   "outputs": [],
   "source": [
    "import geopandas as gpd\n",
    "import json\n",
    "from src import cropy as cpy"
   ]
  },
  {
   "cell_type": "code",
   "execution_count": 2,
   "id": "5133e3f8-d8d1-4ab7-a8c0-4a5075a02b71",
   "metadata": {},
   "outputs": [],
   "source": [
    "aoi_json=open(\"sample_iou.json\")\n",
    "area=gpd.read_file(aoi_json)"
   ]
  },
  {
   "cell_type": "code",
   "execution_count": null,
   "id": "0a59e025-6439-4f35-ba5e-2a40a232d9bc",
   "metadata": {},
   "outputs": [],
   "source": [
    "#direct injection from geojson.io\n",
    "#target_aoi={}\n",
    "#datajson=json.dumps(target_aoi)\n",
    "#area=gpd.read_file(datajson)"
   ]
  },
  {
   "cell_type": "code",
   "execution_count": 3,
   "id": "05806184-4a9e-445f-828b-479354c04415",
   "metadata": {},
   "outputs": [],
   "source": [
    "def download_best_s2(\n",
    "    target_aoi,\n",
    "    dates,\n",
    "    band_list,\n",
    "    cloud_percentage,\n",
    "    download_path,\n",
    "    cloud_masking,\n",
    "    send_s3,\n",
    "    bucket_name):\n",
    "    \"\"\"\n",
    "    target_aoi > should be geopandas dataframe\n",
    "    dates = '2022-01-02/2022-02-28'\n",
    "    band_list=['B02','B08']\n",
    "    cloud_percentage=95\n",
    "    \"\"\"\n",
    "    area=target_aoi\n",
    "    boundry=list(area.geometry.bounds.values[0]) #boundry from your AOI\n",
    "    bbox=[boundry[0],boundry[1],boundry[2],boundry[3]] #(min lon, min lat, max lon, max lat)\n",
    "\n",
    "    stac_query=cpy.Stac(target_aoi=bbox,date=dates,max_cloud=cloud_percentage)\n",
    "    sentinel_items=stac_query.find_sentinel_item()\n",
    "    cpy.Stac.download_image(item_list=sentinel_items,\n",
    "                        band_list=band_list,                                           \n",
    "                        download_path=download_path,\n",
    "                        cloud_masking=cloud_masking, \n",
    "                        send_s3=send_s3,\n",
    "                        bucket_name=bucket_name\n",
    "                       )"
   ]
  },
  {
   "cell_type": "code",
   "execution_count": 4,
   "id": "04913643-e56d-43f7-889d-d5607c1bd569",
   "metadata": {
    "tags": []
   },
   "outputs": [
    {
     "name": "stdout",
     "output_type": "stream",
     "text": [
      "CPU times: user 34.3 s, sys: 22.1 s, total: 56.4 s\n",
      "Wall time: 2min 40s\n"
     ]
    }
   ],
   "source": [
    "%%time\n",
    "download_best_s2(\n",
    "    target_aoi = area,\n",
    "    dates = '2021-07-02/2021-08-28',\n",
    "    band_list=['B02','B08'],\n",
    "    cloud_percentage=30,\n",
    "    download_path=\"./sentine2_raw/\",\n",
    "    cloud_masking=False,\n",
    "    send_s3=True,\n",
    "    bucket_name=\"sentinel2-trial\")"
   ]
  },
  {
   "cell_type": "code",
   "execution_count": null,
   "id": "5f948f20-122e-4a4a-a7c8-4e135f006ff8",
   "metadata": {},
   "outputs": [],
   "source": []
  }
 ],
 "metadata": {
  "kernelspec": {
   "display_name": "Python 3 (ipykernel)",
   "language": "python",
   "name": "python3"
  },
  "language_info": {
   "codemirror_mode": {
    "name": "ipython",
    "version": 3
   },
   "file_extension": ".py",
   "mimetype": "text/x-python",
   "name": "python",
   "nbconvert_exporter": "python",
   "pygments_lexer": "ipython3",
   "version": "3.9.7"
  }
 },
 "nbformat": 4,
 "nbformat_minor": 5
}
