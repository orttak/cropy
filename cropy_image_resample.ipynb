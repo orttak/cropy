{
 "cells": [
  {
   "cell_type": "markdown",
   "metadata": {},
   "source": [
    "\n",
    "### Creating resampled image function\n",
    "input_images_folder: Finds all target band under this parameter.\n",
    "\n",
    "output_image_folder: If you don't give output folder, function create new folder> default name: resample\n",
    "\n",
    "input_images_list: You can give your image list. Cannot be used\n",
    "together with input_images_folder.\n",
    "\n",
    "number_of_band: if the images consist of more than one band, you should define this parameter.  e.g RGB, RGBNIR ...\n",
    "\n",
    "target_band: Target bands under input_images_folder. Default: ['B01', 'B05', 'B06', 'B07', 'B8A','B09', 'B11', 'B12']\n",
    "\n",
    "**kwargs parameters <br>\n",
    "dst_crs: str <br>\n",
    "OGC WKT string or Proj.4 string. <br>\n",
    "\n",
    "resolution: float or tuple(float, float), optional\n",
    "Size of a destination pixel in destination projection units\n",
    "(e.g. degrees or metres).\n",
    "\n",
    "shape: tuple(int, int), optional\n",
    "Shape of the destination in pixels (dst_height, dst_width). Cannot be used\n",
    "together with resolution.\n",
    "\n",
    "transform: optional\n",
    "The destination transform.\n",
    "\n",
    "resampling: Resampling method, optional\n",
    "See rasterio.warp.reproject for more details.\n",
    "      \n",
    "### You can find Sentinel-2 bands as a variable\n",
    "\n",
    "sentinel2_10m_bands=['B02', 'B03', 'B04','B08']  <br>\n",
    "sentinel2_20m_bands=[ 'B05', 'B06', 'B07', 'B8A','B11', 'B12']  <br>\n",
    "sentinel2_60m_bands=['B01', 'B09', 'B10']"
   ]
  },
  {
   "cell_type": "code",
   "execution_count": null,
   "metadata": {},
   "outputs": [],
   "source": [
    "from src import cropy as cpy"
   ]
  },
  {
   "cell_type": "code",
   "execution_count": null,
   "metadata": {},
   "outputs": [],
   "source": [
    "bands_20m=cpy.sentinel2_20m_bands"
   ]
  },
  {
   "cell_type": "code",
   "execution_count": null,
   "metadata": {},
   "outputs": [],
   "source": [
    "bands_20m"
   ]
  },
  {
   "cell_type": "code",
   "execution_count": null,
   "metadata": {},
   "outputs": [],
   "source": [
    "cpy.create_resampled_image(input_images_folder='sentinel_cog/2021-04-22/S2A_35SNC_20210422_0_L2A',\n",
    "                      target_band=bands_20m,resolution=10)"
   ]
  },
  {
   "cell_type": "code",
   "execution_count": null,
   "metadata": {},
   "outputs": [],
   "source": [
    "#alternatif\n",
    "cpy.create_resampled_image(input_images_folder='sentinel_cog/2021-04-22/S2A_35SNC_20210422_0_L2A',\n",
    "                      target_band=['B01'],resolution=10)"
   ]
  },
  {
   "cell_type": "code",
   "execution_count": null,
   "metadata": {},
   "outputs": [],
   "source": []
  }
 ],
 "metadata": {
  "kernelspec": {
   "display_name": "Python 3 (ipykernel)",
   "language": "python",
   "name": "python3"
  },
  "language_info": {
   "codemirror_mode": {
    "name": "ipython",
    "version": 3
   },
   "file_extension": ".py",
   "mimetype": "text/x-python",
   "name": "python",
   "nbconvert_exporter": "python",
   "pygments_lexer": "ipython3",
   "version": "3.9.7"
  }
 },
 "nbformat": 4,
 "nbformat_minor": 4
}
