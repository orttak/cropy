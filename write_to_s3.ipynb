{
 "cells": [
  {
   "cell_type": "code",
   "execution_count": null,
   "id": "57b02597-db83-41ba-b698-33113824d481",
   "metadata": {},
   "outputs": [],
   "source": [
    "import boto3\n",
    "import os\n",
    "import json\n",
    "import botocore.session\n"
   ]
  },
  {
   "cell_type": "code",
   "execution_count": null,
   "id": "4e9c0623-fbba-4fa8-a082-cde67455468e",
   "metadata": {},
   "outputs": [],
   "source": [
    "# you should define your credential into system wit aws cli\n",
    "#https://gist.github.com/GabrielSGoncalves/5668b1172d44620b759998534baa9026\n",
    "#https://hands-on.cloud/working-with-aws-lambda-in-python-using-boto3/\n",
    "session = botocore.session.get_session()\n",
    "boto3.setup_default_session(region_name='eu-west-1')\n",
    "client = boto3.resource(\n",
    "        's3',\n",
    "        aws_access_key_id=session.get_credentials().access_key,\n",
    "        aws_secret_access_key=session.get_credentials().secret_key\n",
    "    )"
   ]
  },
  {
   "cell_type": "code",
   "execution_count": null,
   "id": "fdbb9283-c259-4ffc-9fdd-cc89562d817d",
   "metadata": {
    "tags": []
   },
   "outputs": [],
   "source": [
    "bucket_name='sentinel2-trial'\n",
    "file_name='sample_iou.json'\n",
    "s3_client = boto3.client(\n",
    "    's3',\n",
    "    aws_access_key_id=session.get_credentials().access_key,\n",
    "    aws_secret_access_key=session.get_credentials().secret_key,\n",
    "    region_name=\"eu-west-1\"\n",
    ")\n",
    "\n",
    "response = s3_client.upload_file(file_name, {bucket_name}, f\"subfolder2/deneme_{file_name}\")"
   ]
  },
  {
   "cell_type": "code",
   "execution_count": null,
   "id": "3a1af73a-68af-4adf-94d3-2d3a48b73dfb",
   "metadata": {},
   "outputs": [],
   "source": []
  }
 ],
 "metadata": {
  "kernelspec": {
   "display_name": "Python 3 (ipykernel)",
   "language": "python",
   "name": "python3"
  },
  "language_info": {
   "codemirror_mode": {
    "name": "ipython",
    "version": 3
   },
   "file_extension": ".py",
   "mimetype": "text/x-python",
   "name": "python",
   "nbconvert_exporter": "python",
   "pygments_lexer": "ipython3",
   "version": "3.9.7"
  }
 },
 "nbformat": 4,
 "nbformat_minor": 5
}
